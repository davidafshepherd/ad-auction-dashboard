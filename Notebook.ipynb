{
  "cells": [
    {
      "cell_type": "markdown",
      "id": "d484ed7f",
      "metadata": {
        "id": "d484ed7f"
      },
      "source": [
        "# Deep Learning Technologies group Coursework"
      ]
    },
    {
      "cell_type": "markdown",
      "id": "fdb821ac",
      "metadata": {
        "id": "fdb821ac"
      },
      "source": []
    },
    {
      "cell_type": "code",
      "source": [],
      "metadata": {
        "id": "eSvpx6jQixrv"
      },
      "id": "eSvpx6jQixrv",
      "execution_count": null,
      "outputs": []
    }
  ],
  "metadata": {
    "language_info": {
      "name": "python"
    },
    "colab": {
      "provenance": []
    }
  },
  "nbformat": 4,
  "nbformat_minor": 5
}